{
  "nbformat": 4,
  "nbformat_minor": 0,
  "metadata": {
    "colab": {
      "name": "01)MEL_Random_Split.ipynb",
      "provenance": [],
      "authorship_tag": "ABX9TyOxZU4CtSxtiE8dJDGcn9WN",
      "include_colab_link": true
    },
    "kernelspec": {
      "name": "python3",
      "display_name": "Python 3"
    },
    "language_info": {
      "name": "python"
    }
  },
  "cells": [
    {
      "cell_type": "markdown",
      "metadata": {
        "id": "view-in-github",
        "colab_type": "text"
      },
      "source": [
        "<a href=\"https://colab.research.google.com/github/Naushad13b/Multi_view/blob/MEL/01)MEL_Random_Split.ipynb\" target=\"_parent\"><img src=\"https://colab.research.google.com/assets/colab-badge.svg\" alt=\"Open In Colab\"/></a>"
      ]
    },
    {
      "cell_type": "code",
      "execution_count": null,
      "metadata": {
        "id": "Ql4d_zTomCFS"
      },
      "outputs": [],
      "source": [
        "import mvlearn"
      ]
    },
    {
      "cell_type": "code",
      "source": [
        "pip install mvlearn\n"
      ],
      "metadata": {
        "colab": {
          "base_uri": "https://localhost:8080/"
        },
        "id": "zPkdegjbmDny",
        "outputId": "d296604b-8c45-4b91-c5ab-e10bfa7a8558"
      },
      "execution_count": null,
      "outputs": [
        {
          "output_type": "stream",
          "name": "stdout",
          "text": [
            "Looking in indexes: https://pypi.org/simple, https://us-python.pkg.dev/colab-wheels/public/simple/\n",
            "Collecting mvlearn\n",
            "  Downloading mvlearn-0.5.0-py3-none-any.whl (2.1 MB)\n",
            "\u001b[K     |████████████████████████████████| 2.1 MB 5.1 MB/s \n",
            "\u001b[?25hRequirement already satisfied: scipy>=1.5.0 in /usr/local/lib/python3.7/dist-packages (from mvlearn) (1.7.3)\n",
            "Requirement already satisfied: scikit-learn>=0.19.1 in /usr/local/lib/python3.7/dist-packages (from mvlearn) (1.0.2)\n",
            "Requirement already satisfied: joblib>=0.11 in /usr/local/lib/python3.7/dist-packages (from mvlearn) (1.1.0)\n",
            "Requirement already satisfied: seaborn>=0.9.0 in /usr/local/lib/python3.7/dist-packages (from mvlearn) (0.11.2)\n",
            "Requirement already satisfied: numpy>=1.17.0 in /usr/local/lib/python3.7/dist-packages (from mvlearn) (1.21.6)\n",
            "Requirement already satisfied: matplotlib<=3.3.4,>=3.0.0 in /usr/local/lib/python3.7/dist-packages (from mvlearn) (3.2.2)\n",
            "Requirement already satisfied: python-dateutil>=2.1 in /usr/local/lib/python3.7/dist-packages (from matplotlib<=3.3.4,>=3.0.0->mvlearn) (2.8.2)\n",
            "Requirement already satisfied: kiwisolver>=1.0.1 in /usr/local/lib/python3.7/dist-packages (from matplotlib<=3.3.4,>=3.0.0->mvlearn) (1.4.4)\n",
            "Requirement already satisfied: pyparsing!=2.0.4,!=2.1.2,!=2.1.6,>=2.0.1 in /usr/local/lib/python3.7/dist-packages (from matplotlib<=3.3.4,>=3.0.0->mvlearn) (3.0.9)\n",
            "Requirement already satisfied: cycler>=0.10 in /usr/local/lib/python3.7/dist-packages (from matplotlib<=3.3.4,>=3.0.0->mvlearn) (0.11.0)\n",
            "Requirement already satisfied: typing-extensions in /usr/local/lib/python3.7/dist-packages (from kiwisolver>=1.0.1->matplotlib<=3.3.4,>=3.0.0->mvlearn) (4.1.1)\n",
            "Requirement already satisfied: six>=1.5 in /usr/local/lib/python3.7/dist-packages (from python-dateutil>=2.1->matplotlib<=3.3.4,>=3.0.0->mvlearn) (1.15.0)\n",
            "Requirement already satisfied: threadpoolctl>=2.0.0 in /usr/local/lib/python3.7/dist-packages (from scikit-learn>=0.19.1->mvlearn) (3.1.0)\n",
            "Requirement already satisfied: pandas>=0.23 in /usr/local/lib/python3.7/dist-packages (from seaborn>=0.9.0->mvlearn) (1.3.5)\n",
            "Requirement already satisfied: pytz>=2017.3 in /usr/local/lib/python3.7/dist-packages (from pandas>=0.23->seaborn>=0.9.0->mvlearn) (2022.1)\n",
            "Installing collected packages: mvlearn\n",
            "Successfully installed mvlearn-0.5.0\n"
          ]
        }
      ]
    },
    {
      "cell_type": "code",
      "source": [
        "# Few examples to understand below code properly.\n",
        "\n",
        "import pandas as pd\n",
        "import numpy as np\n",
        "d_values = np.arange(120).reshape(8,15)\n",
        "print (d_values)\n",
        "print ('\\n',\"after putting into Dataframe\",)\n",
        "d_values = pd.DataFrame(d_values)\n",
        "print(\"\\n\", d_values)\n",
        " "
      ],
      "metadata": {
        "id": "fSUeZxYu7fAj",
        "colab": {
          "base_uri": "https://localhost:8080/"
        },
        "outputId": "d6f4fec6-20d3-458a-dafa-3c819384ecfb"
      },
      "execution_count": null,
      "outputs": [
        {
          "output_type": "stream",
          "name": "stdout",
          "text": [
            "[[  0   1   2   3   4   5   6   7   8   9  10  11  12  13  14]\n",
            " [ 15  16  17  18  19  20  21  22  23  24  25  26  27  28  29]\n",
            " [ 30  31  32  33  34  35  36  37  38  39  40  41  42  43  44]\n",
            " [ 45  46  47  48  49  50  51  52  53  54  55  56  57  58  59]\n",
            " [ 60  61  62  63  64  65  66  67  68  69  70  71  72  73  74]\n",
            " [ 75  76  77  78  79  80  81  82  83  84  85  86  87  88  89]\n",
            " [ 90  91  92  93  94  95  96  97  98  99 100 101 102 103 104]\n",
            " [105 106 107 108 109 110 111 112 113 114 115 116 117 118 119]]\n",
            "\n",
            " after putting into Dataframe\n",
            "\n",
            "     0    1    2    3    4    5    6    7    8    9    10   11   12   13   14\n",
            "0    0    1    2    3    4    5    6    7    8    9   10   11   12   13   14\n",
            "1   15   16   17   18   19   20   21   22   23   24   25   26   27   28   29\n",
            "2   30   31   32   33   34   35   36   37   38   39   40   41   42   43   44\n",
            "3   45   46   47   48   49   50   51   52   53   54   55   56   57   58   59\n",
            "4   60   61   62   63   64   65   66   67   68   69   70   71   72   73   74\n",
            "5   75   76   77   78   79   80   81   82   83   84   85   86   87   88   89\n",
            "6   90   91   92   93   94   95   96   97   98   99  100  101  102  103  104\n",
            "7  105  106  107  108  109  110  111  112  113  114  115  116  117  118  119\n"
          ]
        }
      ]
    },
    {
      "cell_type": "code",
      "source": [
        "y = d_values.columns.tolist()\n",
        "y"
      ],
      "metadata": {
        "colab": {
          "base_uri": "https://localhost:8080/"
        },
        "id": "0sbx4t4-6jla",
        "outputId": "fdcf2ae0-c7e6-4ee5-a282-a74cf571465e"
      },
      "execution_count": null,
      "outputs": [
        {
          "output_type": "execute_result",
          "data": {
            "text/plain": [
              "[0, 1, 2, 3, 4, 5, 6, 7, 8, 9, 10, 11, 12, 13, 14]"
            ]
          },
          "metadata": {},
          "execution_count": 2
        }
      ]
    },
    {
      "cell_type": "code",
      "source": [
        "from sklearn.datasets import load_breast_cancer"
      ],
      "metadata": {
        "id": "UJOzzTUX6mQ6"
      },
      "execution_count": null,
      "outputs": []
    },
    {
      "cell_type": "code",
      "source": [
        "d = load_breast_cancer()\n",
        "print(d)"
      ],
      "metadata": {
        "colab": {
          "base_uri": "https://localhost:8080/"
        },
        "id": "6P0N_pwV6ofz",
        "outputId": "df9b7a13-89f8-40ac-d722-e4fc09a12970"
      },
      "execution_count": null,
      "outputs": [
        {
          "output_type": "stream",
          "name": "stdout",
          "text": [
            "{'data': array([[1.799e+01, 1.038e+01, 1.228e+02, ..., 2.654e-01, 4.601e-01,\n",
            "        1.189e-01],\n",
            "       [2.057e+01, 1.777e+01, 1.329e+02, ..., 1.860e-01, 2.750e-01,\n",
            "        8.902e-02],\n",
            "       [1.969e+01, 2.125e+01, 1.300e+02, ..., 2.430e-01, 3.613e-01,\n",
            "        8.758e-02],\n",
            "       ...,\n",
            "       [1.660e+01, 2.808e+01, 1.083e+02, ..., 1.418e-01, 2.218e-01,\n",
            "        7.820e-02],\n",
            "       [2.060e+01, 2.933e+01, 1.401e+02, ..., 2.650e-01, 4.087e-01,\n",
            "        1.240e-01],\n",
            "       [7.760e+00, 2.454e+01, 4.792e+01, ..., 0.000e+00, 2.871e-01,\n",
            "        7.039e-02]]), 'target': array([0, 0, 0, 0, 0, 0, 0, 0, 0, 0, 0, 0, 0, 0, 0, 0, 0, 0, 0, 1, 1, 1,\n",
            "       0, 0, 0, 0, 0, 0, 0, 0, 0, 0, 0, 0, 0, 0, 0, 1, 0, 0, 0, 0, 0, 0,\n",
            "       0, 0, 1, 0, 1, 1, 1, 1, 1, 0, 0, 1, 0, 0, 1, 1, 1, 1, 0, 1, 0, 0,\n",
            "       1, 1, 1, 1, 0, 1, 0, 0, 1, 0, 1, 0, 0, 1, 1, 1, 0, 0, 1, 0, 0, 0,\n",
            "       1, 1, 1, 0, 1, 1, 0, 0, 1, 1, 1, 0, 0, 1, 1, 1, 1, 0, 1, 1, 0, 1,\n",
            "       1, 1, 1, 1, 1, 1, 1, 0, 0, 0, 1, 0, 0, 1, 1, 1, 0, 0, 1, 0, 1, 0,\n",
            "       0, 1, 0, 0, 1, 1, 0, 1, 1, 0, 1, 1, 1, 1, 0, 1, 1, 1, 1, 1, 1, 1,\n",
            "       1, 1, 0, 1, 1, 1, 1, 0, 0, 1, 0, 1, 1, 0, 0, 1, 1, 0, 0, 1, 1, 1,\n",
            "       1, 0, 1, 1, 0, 0, 0, 1, 0, 1, 0, 1, 1, 1, 0, 1, 1, 0, 0, 1, 0, 0,\n",
            "       0, 0, 1, 0, 0, 0, 1, 0, 1, 0, 1, 1, 0, 1, 0, 0, 0, 0, 1, 1, 0, 0,\n",
            "       1, 1, 1, 0, 1, 1, 1, 1, 1, 0, 0, 1, 1, 0, 1, 1, 0, 0, 1, 0, 1, 1,\n",
            "       1, 1, 0, 1, 1, 1, 1, 1, 0, 1, 0, 0, 0, 0, 0, 0, 0, 0, 0, 0, 0, 0,\n",
            "       0, 0, 1, 1, 1, 1, 1, 1, 0, 1, 0, 1, 1, 0, 1, 1, 0, 1, 0, 0, 1, 1,\n",
            "       1, 1, 1, 1, 1, 1, 1, 1, 1, 1, 1, 0, 1, 1, 0, 1, 0, 1, 1, 1, 1, 1,\n",
            "       1, 1, 1, 1, 1, 1, 1, 1, 1, 0, 1, 1, 1, 0, 1, 0, 1, 1, 1, 1, 0, 0,\n",
            "       0, 1, 1, 1, 1, 0, 1, 0, 1, 0, 1, 1, 1, 0, 1, 1, 1, 1, 1, 1, 1, 0,\n",
            "       0, 0, 1, 1, 1, 1, 1, 1, 1, 1, 1, 1, 1, 0, 0, 1, 0, 0, 0, 1, 0, 0,\n",
            "       1, 1, 1, 1, 1, 0, 1, 1, 1, 1, 1, 0, 1, 1, 1, 0, 1, 1, 0, 0, 1, 1,\n",
            "       1, 1, 1, 1, 0, 1, 1, 1, 1, 1, 1, 1, 0, 1, 1, 1, 1, 1, 0, 1, 1, 0,\n",
            "       1, 1, 1, 1, 1, 1, 1, 1, 1, 1, 1, 1, 0, 1, 0, 0, 1, 0, 1, 1, 1, 1,\n",
            "       1, 0, 1, 1, 0, 1, 0, 1, 1, 0, 1, 0, 1, 1, 1, 1, 1, 1, 1, 1, 0, 0,\n",
            "       1, 1, 1, 1, 1, 1, 0, 1, 1, 1, 1, 1, 1, 1, 1, 1, 1, 0, 1, 1, 1, 1,\n",
            "       1, 1, 1, 0, 1, 0, 1, 1, 0, 1, 1, 1, 1, 1, 0, 0, 1, 0, 1, 0, 1, 1,\n",
            "       1, 1, 1, 0, 1, 1, 0, 1, 0, 1, 0, 0, 1, 1, 1, 0, 1, 1, 1, 1, 1, 1,\n",
            "       1, 1, 1, 1, 1, 0, 1, 0, 0, 1, 1, 1, 1, 1, 1, 1, 1, 1, 1, 1, 1, 1,\n",
            "       1, 1, 1, 1, 1, 1, 1, 1, 1, 1, 1, 1, 0, 0, 0, 0, 0, 0, 1]), 'frame': None, 'target_names': array(['malignant', 'benign'], dtype='<U9'), 'DESCR': '.. _breast_cancer_dataset:\\n\\nBreast cancer wisconsin (diagnostic) dataset\\n--------------------------------------------\\n\\n**Data Set Characteristics:**\\n\\n    :Number of Instances: 569\\n\\n    :Number of Attributes: 30 numeric, predictive attributes and the class\\n\\n    :Attribute Information:\\n        - radius (mean of distances from center to points on the perimeter)\\n        - texture (standard deviation of gray-scale values)\\n        - perimeter\\n        - area\\n        - smoothness (local variation in radius lengths)\\n        - compactness (perimeter^2 / area - 1.0)\\n        - concavity (severity of concave portions of the contour)\\n        - concave points (number of concave portions of the contour)\\n        - symmetry\\n        - fractal dimension (\"coastline approximation\" - 1)\\n\\n        The mean, standard error, and \"worst\" or largest (mean of the three\\n        worst/largest values) of these features were computed for each image,\\n        resulting in 30 features.  For instance, field 0 is Mean Radius, field\\n        10 is Radius SE, field 20 is Worst Radius.\\n\\n        - class:\\n                - WDBC-Malignant\\n                - WDBC-Benign\\n\\n    :Summary Statistics:\\n\\n    ===================================== ====== ======\\n                                           Min    Max\\n    ===================================== ====== ======\\n    radius (mean):                        6.981  28.11\\n    texture (mean):                       9.71   39.28\\n    perimeter (mean):                     43.79  188.5\\n    area (mean):                          143.5  2501.0\\n    smoothness (mean):                    0.053  0.163\\n    compactness (mean):                   0.019  0.345\\n    concavity (mean):                     0.0    0.427\\n    concave points (mean):                0.0    0.201\\n    symmetry (mean):                      0.106  0.304\\n    fractal dimension (mean):             0.05   0.097\\n    radius (standard error):              0.112  2.873\\n    texture (standard error):             0.36   4.885\\n    perimeter (standard error):           0.757  21.98\\n    area (standard error):                6.802  542.2\\n    smoothness (standard error):          0.002  0.031\\n    compactness (standard error):         0.002  0.135\\n    concavity (standard error):           0.0    0.396\\n    concave points (standard error):      0.0    0.053\\n    symmetry (standard error):            0.008  0.079\\n    fractal dimension (standard error):   0.001  0.03\\n    radius (worst):                       7.93   36.04\\n    texture (worst):                      12.02  49.54\\n    perimeter (worst):                    50.41  251.2\\n    area (worst):                         185.2  4254.0\\n    smoothness (worst):                   0.071  0.223\\n    compactness (worst):                  0.027  1.058\\n    concavity (worst):                    0.0    1.252\\n    concave points (worst):               0.0    0.291\\n    symmetry (worst):                     0.156  0.664\\n    fractal dimension (worst):            0.055  0.208\\n    ===================================== ====== ======\\n\\n    :Missing Attribute Values: None\\n\\n    :Class Distribution: 212 - Malignant, 357 - Benign\\n\\n    :Creator:  Dr. William H. Wolberg, W. Nick Street, Olvi L. Mangasarian\\n\\n    :Donor: Nick Street\\n\\n    :Date: November, 1995\\n\\nThis is a copy of UCI ML Breast Cancer Wisconsin (Diagnostic) datasets.\\nhttps://goo.gl/U2Uwz2\\n\\nFeatures are computed from a digitized image of a fine needle\\naspirate (FNA) of a breast mass.  They describe\\ncharacteristics of the cell nuclei present in the image.\\n\\nSeparating plane described above was obtained using\\nMultisurface Method-Tree (MSM-T) [K. P. Bennett, \"Decision Tree\\nConstruction Via Linear Programming.\" Proceedings of the 4th\\nMidwest Artificial Intelligence and Cognitive Science Society,\\npp. 97-101, 1992], a classification method which uses linear\\nprogramming to construct a decision tree.  Relevant features\\nwere selected using an exhaustive search in the space of 1-4\\nfeatures and 1-3 separating planes.\\n\\nThe actual linear program used to obtain the separating plane\\nin the 3-dimensional space is that described in:\\n[K. P. Bennett and O. L. Mangasarian: \"Robust Linear\\nProgramming Discrimination of Two Linearly Inseparable Sets\",\\nOptimization Methods and Software 1, 1992, 23-34].\\n\\nThis database is also available through the UW CS ftp server:\\n\\nftp ftp.cs.wisc.edu\\ncd math-prog/cpo-dataset/machine-learn/WDBC/\\n\\n.. topic:: References\\n\\n   - W.N. Street, W.H. Wolberg and O.L. Mangasarian. Nuclear feature extraction \\n     for breast tumor diagnosis. IS&T/SPIE 1993 International Symposium on \\n     Electronic Imaging: Science and Technology, volume 1905, pages 861-870,\\n     San Jose, CA, 1993.\\n   - O.L. Mangasarian, W.N. Street and W.H. Wolberg. Breast cancer diagnosis and \\n     prognosis via linear programming. Operations Research, 43(4), pages 570-577, \\n     July-August 1995.\\n   - W.H. Wolberg, W.N. Street, and O.L. Mangasarian. Machine learning techniques\\n     to diagnose breast cancer from fine-needle aspirates. Cancer Letters 77 (1994) \\n     163-171.', 'feature_names': array(['mean radius', 'mean texture', 'mean perimeter', 'mean area',\n",
            "       'mean smoothness', 'mean compactness', 'mean concavity',\n",
            "       'mean concave points', 'mean symmetry', 'mean fractal dimension',\n",
            "       'radius error', 'texture error', 'perimeter error', 'area error',\n",
            "       'smoothness error', 'compactness error', 'concavity error',\n",
            "       'concave points error', 'symmetry error',\n",
            "       'fractal dimension error', 'worst radius', 'worst texture',\n",
            "       'worst perimeter', 'worst area', 'worst smoothness',\n",
            "       'worst compactness', 'worst concavity', 'worst concave points',\n",
            "       'worst symmetry', 'worst fractal dimension'], dtype='<U23'), 'filename': 'breast_cancer.csv', 'data_module': 'sklearn.datasets.data'}\n"
          ]
        }
      ]
    },
    {
      "cell_type": "code",
      "source": [
        "x=d.data\n",
        "#print(x)\n",
        "\n",
        "y=d.target\n",
        "print(y)"
      ],
      "metadata": {
        "colab": {
          "base_uri": "https://localhost:8080/"
        },
        "id": "6gBBzLWc6qLi",
        "outputId": "d266ca24-f5f3-4e63-93fe-341ec50ccf42"
      },
      "execution_count": null,
      "outputs": [
        {
          "output_type": "stream",
          "name": "stdout",
          "text": [
            "[0 0 0 0 0 0 0 0 0 0 0 0 0 0 0 0 0 0 0 1 1 1 0 0 0 0 0 0 0 0 0 0 0 0 0 0 0\n",
            " 1 0 0 0 0 0 0 0 0 1 0 1 1 1 1 1 0 0 1 0 0 1 1 1 1 0 1 0 0 1 1 1 1 0 1 0 0\n",
            " 1 0 1 0 0 1 1 1 0 0 1 0 0 0 1 1 1 0 1 1 0 0 1 1 1 0 0 1 1 1 1 0 1 1 0 1 1\n",
            " 1 1 1 1 1 1 0 0 0 1 0 0 1 1 1 0 0 1 0 1 0 0 1 0 0 1 1 0 1 1 0 1 1 1 1 0 1\n",
            " 1 1 1 1 1 1 1 1 0 1 1 1 1 0 0 1 0 1 1 0 0 1 1 0 0 1 1 1 1 0 1 1 0 0 0 1 0\n",
            " 1 0 1 1 1 0 1 1 0 0 1 0 0 0 0 1 0 0 0 1 0 1 0 1 1 0 1 0 0 0 0 1 1 0 0 1 1\n",
            " 1 0 1 1 1 1 1 0 0 1 1 0 1 1 0 0 1 0 1 1 1 1 0 1 1 1 1 1 0 1 0 0 0 0 0 0 0\n",
            " 0 0 0 0 0 0 0 1 1 1 1 1 1 0 1 0 1 1 0 1 1 0 1 0 0 1 1 1 1 1 1 1 1 1 1 1 1\n",
            " 1 0 1 1 0 1 0 1 1 1 1 1 1 1 1 1 1 1 1 1 1 0 1 1 1 0 1 0 1 1 1 1 0 0 0 1 1\n",
            " 1 1 0 1 0 1 0 1 1 1 0 1 1 1 1 1 1 1 0 0 0 1 1 1 1 1 1 1 1 1 1 1 0 0 1 0 0\n",
            " 0 1 0 0 1 1 1 1 1 0 1 1 1 1 1 0 1 1 1 0 1 1 0 0 1 1 1 1 1 1 0 1 1 1 1 1 1\n",
            " 1 0 1 1 1 1 1 0 1 1 0 1 1 1 1 1 1 1 1 1 1 1 1 0 1 0 0 1 0 1 1 1 1 1 0 1 1\n",
            " 0 1 0 1 1 0 1 0 1 1 1 1 1 1 1 1 0 0 1 1 1 1 1 1 0 1 1 1 1 1 1 1 1 1 1 0 1\n",
            " 1 1 1 1 1 1 0 1 0 1 1 0 1 1 1 1 1 0 0 1 0 1 0 1 1 1 1 1 0 1 1 0 1 0 1 0 0\n",
            " 1 1 1 0 1 1 1 1 1 1 1 1 1 1 1 0 1 0 0 1 1 1 1 1 1 1 1 1 1 1 1 1 1 1 1 1 1\n",
            " 1 1 1 1 1 1 1 0 0 0 0 0 0 1]\n"
          ]
        }
      ]
    },
    {
      "cell_type": "code",
      "source": [
        "import pandas as pd\n",
        "x=pd.DataFrame(x)\n",
        "print(x)"
      ],
      "metadata": {
        "colab": {
          "base_uri": "https://localhost:8080/"
        },
        "id": "ijn5RUIT6tyi",
        "outputId": "3389bbf2-1dea-4cfd-dba4-d8439c2bc4a4"
      },
      "execution_count": null,
      "outputs": [
        {
          "output_type": "stream",
          "name": "stdout",
          "text": [
            "        0      1       2       3        4        5        6        7       8   \\\n",
            "0    17.99  10.38  122.80  1001.0  0.11840  0.27760  0.30010  0.14710  0.2419   \n",
            "1    20.57  17.77  132.90  1326.0  0.08474  0.07864  0.08690  0.07017  0.1812   \n",
            "2    19.69  21.25  130.00  1203.0  0.10960  0.15990  0.19740  0.12790  0.2069   \n",
            "3    11.42  20.38   77.58   386.1  0.14250  0.28390  0.24140  0.10520  0.2597   \n",
            "4    20.29  14.34  135.10  1297.0  0.10030  0.13280  0.19800  0.10430  0.1809   \n",
            "..     ...    ...     ...     ...      ...      ...      ...      ...     ...   \n",
            "564  21.56  22.39  142.00  1479.0  0.11100  0.11590  0.24390  0.13890  0.1726   \n",
            "565  20.13  28.25  131.20  1261.0  0.09780  0.10340  0.14400  0.09791  0.1752   \n",
            "566  16.60  28.08  108.30   858.1  0.08455  0.10230  0.09251  0.05302  0.1590   \n",
            "567  20.60  29.33  140.10  1265.0  0.11780  0.27700  0.35140  0.15200  0.2397   \n",
            "568   7.76  24.54   47.92   181.0  0.05263  0.04362  0.00000  0.00000  0.1587   \n",
            "\n",
            "          9   ...      20     21      22      23       24       25      26  \\\n",
            "0    0.07871  ...  25.380  17.33  184.60  2019.0  0.16220  0.66560  0.7119   \n",
            "1    0.05667  ...  24.990  23.41  158.80  1956.0  0.12380  0.18660  0.2416   \n",
            "2    0.05999  ...  23.570  25.53  152.50  1709.0  0.14440  0.42450  0.4504   \n",
            "3    0.09744  ...  14.910  26.50   98.87   567.7  0.20980  0.86630  0.6869   \n",
            "4    0.05883  ...  22.540  16.67  152.20  1575.0  0.13740  0.20500  0.4000   \n",
            "..       ...  ...     ...    ...     ...     ...      ...      ...     ...   \n",
            "564  0.05623  ...  25.450  26.40  166.10  2027.0  0.14100  0.21130  0.4107   \n",
            "565  0.05533  ...  23.690  38.25  155.00  1731.0  0.11660  0.19220  0.3215   \n",
            "566  0.05648  ...  18.980  34.12  126.70  1124.0  0.11390  0.30940  0.3403   \n",
            "567  0.07016  ...  25.740  39.42  184.60  1821.0  0.16500  0.86810  0.9387   \n",
            "568  0.05884  ...   9.456  30.37   59.16   268.6  0.08996  0.06444  0.0000   \n",
            "\n",
            "         27      28       29  \n",
            "0    0.2654  0.4601  0.11890  \n",
            "1    0.1860  0.2750  0.08902  \n",
            "2    0.2430  0.3613  0.08758  \n",
            "3    0.2575  0.6638  0.17300  \n",
            "4    0.1625  0.2364  0.07678  \n",
            "..      ...     ...      ...  \n",
            "564  0.2216  0.2060  0.07115  \n",
            "565  0.1628  0.2572  0.06637  \n",
            "566  0.1418  0.2218  0.07820  \n",
            "567  0.2650  0.4087  0.12400  \n",
            "568  0.0000  0.2871  0.07039  \n",
            "\n",
            "[569 rows x 30 columns]\n"
          ]
        }
      ]
    },
    {
      "cell_type": "code",
      "source": [
        "from sklearn.svm import SVC\n",
        "clf=SVC(kernel=\"rbf\")"
      ],
      "metadata": {
        "id": "eVwF6OzV6whS"
      },
      "execution_count": null,
      "outputs": []
    },
    {
      "cell_type": "code",
      "source": [
        "from sklearn.model_selection import cross_val_predict , cross_val_score \n",
        "pred=cross_val_predict(clf, x, y , cv=5)\n",
        "print(pred)\n",
        "acc=cross_val_score(clf, x, y , cv=5).mean()\n",
        "print(acc)"
      ],
      "metadata": {
        "colab": {
          "base_uri": "https://localhost:8080/"
        },
        "id": "7IUMxkHj6zbr",
        "outputId": "8dfe6f90-1c5c-4dc2-f1b2-143d5533edb5"
      },
      "execution_count": null,
      "outputs": [
        {
          "output_type": "stream",
          "name": "stdout",
          "text": [
            "[0 0 0 1 0 1 0 1 1 1 0 0 0 1 1 0 0 0 0 1 1 1 0 0 0 0 1 0 0 0 0 1 0 0 0 0 1\n",
            " 1 1 1 1 1 0 0 1 0 1 1 1 1 1 1 1 0 0 1 0 0 1 1 1 1 0 1 1 0 1 1 1 1 0 1 0 1\n",
            " 1 0 1 0 0 1 1 1 0 0 1 0 1 0 1 1 1 1 1 1 0 0 1 1 1 1 1 1 1 1 1 1 1 1 0 1 1\n",
            " 1 1 1 1 1 1 0 0 0 1 0 0 1 1 1 1 0 1 0 1 0 0 0 0 1 1 1 0 1 1 0 1 1 1 1 1 1\n",
            " 1 1 1 1 1 1 1 1 0 0 1 1 1 0 0 1 0 1 1 0 0 1 1 0 0 1 1 1 1 0 1 1 0 0 0 1 0\n",
            " 1 0 1 1 1 1 1 1 1 1 1 1 0 0 0 1 0 0 0 1 0 1 0 1 0 0 1 0 0 1 1 1 1 0 0 1 1\n",
            " 1 0 1 1 1 1 1 1 0 1 1 0 1 1 0 0 1 0 1 1 1 1 0 1 1 1 1 1 0 1 0 0 0 1 0 0 0\n",
            " 0 0 0 0 0 0 0 1 1 1 1 1 1 0 1 0 1 1 0 1 1 0 1 0 0 1 1 1 1 1 1 1 1 1 1 1 1\n",
            " 1 1 1 1 0 1 0 1 1 1 1 1 1 1 1 1 1 1 1 1 1 0 1 1 1 0 1 0 1 1 1 1 0 0 0 1 1\n",
            " 1 1 0 1 0 1 0 1 1 1 0 1 1 1 1 1 1 1 1 0 0 1 1 1 1 1 1 1 1 1 0 1 0 0 1 0 0\n",
            " 0 1 0 0 1 1 1 1 1 1 1 1 1 1 1 1 1 1 1 0 1 1 0 0 1 1 1 1 1 1 0 1 1 1 1 1 0\n",
            " 1 0 1 1 1 1 1 0 1 1 0 1 1 1 1 1 1 1 1 1 1 1 1 1 1 0 0 1 1 1 1 1 1 1 0 1 1\n",
            " 0 1 0 1 1 0 1 0 1 1 1 1 1 1 1 1 0 0 1 1 1 1 1 1 0 1 1 1 1 1 1 1 1 1 1 0 1\n",
            " 1 1 1 1 1 1 0 1 0 1 0 0 1 1 1 1 1 0 0 1 1 1 0 1 1 1 1 0 0 1 1 1 1 0 1 0 0\n",
            " 1 1 1 0 1 1 1 1 1 1 1 1 1 1 1 0 1 0 1 1 1 1 1 1 1 1 1 1 1 1 1 1 1 1 1 1 1\n",
            " 1 1 1 1 1 1 1 0 0 0 0 0 0 1]\n",
            "0.9121720229777983\n"
          ]
        }
      ]
    },
    {
      "cell_type": "code",
      "source": [
        "import random\n",
        "def partition(list_in, n):\n",
        " random.shuffle(list_in)\n",
        " return [list_in[i::n] for i in range(n)]"
      ],
      "metadata": {
        "id": "-fs07-we627i"
      },
      "execution_count": null,
      "outputs": []
    },
    {
      "cell_type": "code",
      "source": [
        "print(\"enter no of splits:\")\n",
        "split = int(input( ))\n",
        "part=partition(x.columns.tolist(),split)\n",
        "print(part)"
      ],
      "metadata": {
        "colab": {
          "base_uri": "https://localhost:8080/"
        },
        "id": "0hzfo0AB65ai",
        "outputId": "41301eca-ad50-4f61-f4de-8eb289557068"
      },
      "execution_count": null,
      "outputs": [
        {
          "output_type": "stream",
          "name": "stdout",
          "text": [
            "enter no of splits:\n",
            "8\n",
            "[[2, 28, 21, 27], [13, 16, 19, 1], [10, 11, 15, 12], [29, 0, 23, 3], [4, 14, 7, 17], [9, 8, 5, 26], [25, 20, 24], [6, 18, 22]]\n"
          ]
        }
      ]
    },
    {
      "cell_type": "code",
      "source": [
        "from sklearn.model_selection import cross_val_score , cross_val_predict\n",
        "all_pred=[]\n",
        "all_acc=[]\n",
        "for i in range(split):\n",
        "\n",
        "  print(f\"part(i):\\n{part[i]}\\n\")\n",
        "  print(f\"x[part(i)]:\\n{x[part[i]]}\\n\")\n",
        "  pred=cross_val_predict(clf, x[part[i]], y , cv=5)\n",
        "  #print(pred)\n",
        "  all_pred.append(pred)\n",
        "  #print(all_pred)\n",
        "  acc=cross_val_score(clf, x[part[i]], y , cv=5).mean()\n",
        "  #print(acc)\n",
        "  all_acc.append(acc)"
      ],
      "metadata": {
        "colab": {
          "base_uri": "https://localhost:8080/"
        },
        "id": "A5wItA5Y67ZS",
        "outputId": "f10f8738-90f9-40f5-808e-2396069bbc1e"
      },
      "execution_count": null,
      "outputs": [
        {
          "output_type": "stream",
          "name": "stdout",
          "text": [
            "part(i):\n",
            "[2, 28, 21, 27]\n",
            "\n",
            "x[part(i)]:\n",
            "         2       28     21      27\n",
            "0    122.80  0.4601  17.33  0.2654\n",
            "1    132.90  0.2750  23.41  0.1860\n",
            "2    130.00  0.3613  25.53  0.2430\n",
            "3     77.58  0.6638  26.50  0.2575\n",
            "4    135.10  0.2364  16.67  0.1625\n",
            "..      ...     ...    ...     ...\n",
            "564  142.00  0.2060  26.40  0.2216\n",
            "565  131.20  0.2572  38.25  0.1628\n",
            "566  108.30  0.2218  34.12  0.1418\n",
            "567  140.10  0.4087  39.42  0.2650\n",
            "568   47.92  0.2871  30.37  0.0000\n",
            "\n",
            "[569 rows x 4 columns]\n",
            "\n",
            "part(i):\n",
            "[13, 16, 19, 1]\n",
            "\n",
            "x[part(i)]:\n",
            "         13       16        19     1 \n",
            "0    153.40  0.05373  0.006193  10.38\n",
            "1     74.08  0.01860  0.003532  17.77\n",
            "2     94.03  0.03832  0.004571  21.25\n",
            "3     27.23  0.05661  0.009208  20.38\n",
            "4     94.44  0.05688  0.005115  14.34\n",
            "..      ...      ...       ...    ...\n",
            "564  158.70  0.05198  0.004239  22.39\n",
            "565   99.04  0.03950  0.002498  28.25\n",
            "566   48.55  0.04730  0.003892  28.08\n",
            "567   86.22  0.07117  0.006185  29.33\n",
            "568   19.15  0.00000  0.002783  24.54\n",
            "\n",
            "[569 rows x 4 columns]\n",
            "\n",
            "part(i):\n",
            "[10, 11, 15, 12]\n",
            "\n",
            "x[part(i)]:\n",
            "         10      11       15     12\n",
            "0    1.0950  0.9053  0.04904  8.589\n",
            "1    0.5435  0.7339  0.01308  3.398\n",
            "2    0.7456  0.7869  0.04006  4.585\n",
            "3    0.4956  1.1560  0.07458  3.445\n",
            "4    0.7572  0.7813  0.02461  5.438\n",
            "..      ...     ...      ...    ...\n",
            "564  1.1760  1.2560  0.02891  7.673\n",
            "565  0.7655  2.4630  0.02423  5.203\n",
            "566  0.4564  1.0750  0.03731  3.425\n",
            "567  0.7260  1.5950  0.06158  5.772\n",
            "568  0.3857  1.4280  0.00466  2.548\n",
            "\n",
            "[569 rows x 4 columns]\n",
            "\n",
            "part(i):\n",
            "[29, 0, 23, 3]\n",
            "\n",
            "x[part(i)]:\n",
            "          29     0       23      3 \n",
            "0    0.11890  17.99  2019.0  1001.0\n",
            "1    0.08902  20.57  1956.0  1326.0\n",
            "2    0.08758  19.69  1709.0  1203.0\n",
            "3    0.17300  11.42   567.7   386.1\n",
            "4    0.07678  20.29  1575.0  1297.0\n",
            "..       ...    ...     ...     ...\n",
            "564  0.07115  21.56  2027.0  1479.0\n",
            "565  0.06637  20.13  1731.0  1261.0\n",
            "566  0.07820  16.60  1124.0   858.1\n",
            "567  0.12400  20.60  1821.0  1265.0\n",
            "568  0.07039   7.76   268.6   181.0\n",
            "\n",
            "[569 rows x 4 columns]\n",
            "\n",
            "part(i):\n",
            "[4, 14, 7, 17]\n",
            "\n",
            "x[part(i)]:\n",
            "          4         14       7        17\n",
            "0    0.11840  0.006399  0.14710  0.01587\n",
            "1    0.08474  0.005225  0.07017  0.01340\n",
            "2    0.10960  0.006150  0.12790  0.02058\n",
            "3    0.14250  0.009110  0.10520  0.01867\n",
            "4    0.10030  0.011490  0.10430  0.01885\n",
            "..       ...       ...      ...      ...\n",
            "564  0.11100  0.010300  0.13890  0.02454\n",
            "565  0.09780  0.005769  0.09791  0.01678\n",
            "566  0.08455  0.005903  0.05302  0.01557\n",
            "567  0.11780  0.006522  0.15200  0.01664\n",
            "568  0.05263  0.007189  0.00000  0.00000\n",
            "\n",
            "[569 rows x 4 columns]\n",
            "\n",
            "part(i):\n",
            "[9, 8, 5, 26]\n",
            "\n",
            "x[part(i)]:\n",
            "          9       8        5       26\n",
            "0    0.07871  0.2419  0.27760  0.7119\n",
            "1    0.05667  0.1812  0.07864  0.2416\n",
            "2    0.05999  0.2069  0.15990  0.4504\n",
            "3    0.09744  0.2597  0.28390  0.6869\n",
            "4    0.05883  0.1809  0.13280  0.4000\n",
            "..       ...     ...      ...     ...\n",
            "564  0.05623  0.1726  0.11590  0.4107\n",
            "565  0.05533  0.1752  0.10340  0.3215\n",
            "566  0.05648  0.1590  0.10230  0.3403\n",
            "567  0.07016  0.2397  0.27700  0.9387\n",
            "568  0.05884  0.1587  0.04362  0.0000\n",
            "\n",
            "[569 rows x 4 columns]\n",
            "\n",
            "part(i):\n",
            "[25, 20, 24]\n",
            "\n",
            "x[part(i)]:\n",
            "          25      20       24\n",
            "0    0.66560  25.380  0.16220\n",
            "1    0.18660  24.990  0.12380\n",
            "2    0.42450  23.570  0.14440\n",
            "3    0.86630  14.910  0.20980\n",
            "4    0.20500  22.540  0.13740\n",
            "..       ...     ...      ...\n",
            "564  0.21130  25.450  0.14100\n",
            "565  0.19220  23.690  0.11660\n",
            "566  0.30940  18.980  0.11390\n",
            "567  0.86810  25.740  0.16500\n",
            "568  0.06444   9.456  0.08996\n",
            "\n",
            "[569 rows x 3 columns]\n",
            "\n",
            "part(i):\n",
            "[6, 18, 22]\n",
            "\n",
            "x[part(i)]:\n",
            "          6        18      22\n",
            "0    0.30010  0.03003  184.60\n",
            "1    0.08690  0.01389  158.80\n",
            "2    0.19740  0.02250  152.50\n",
            "3    0.24140  0.05963   98.87\n",
            "4    0.19800  0.01756  152.20\n",
            "..       ...      ...     ...\n",
            "564  0.24390  0.01114  166.10\n",
            "565  0.14400  0.01898  155.00\n",
            "566  0.09251  0.01318  126.70\n",
            "567  0.35140  0.02324  184.60\n",
            "568  0.00000  0.02676   59.16\n",
            "\n",
            "[569 rows x 3 columns]\n",
            "\n"
          ]
        }
      ]
    },
    {
      "cell_type": "markdown",
      "source": [
        "Ensemble of all predictions of views using Majority voting:"
      ],
      "metadata": {
        "id": "WwrxrM7k7D2S"
      }
    },
    {
      "cell_type": "code",
      "source": [
        "g=[]\n",
        "for r in range(len(all_pred[0])):\n",
        "  cmp=[]\n",
        "  for w in range(len(all_pred)):\n",
        "    cmp.append(all_pred[w][r])\n",
        "  p=max(set(cmp), key= cmp.count)\n",
        "  g.append(p)\n",
        "\n",
        "print(g)"
      ],
      "metadata": {
        "colab": {
          "base_uri": "https://localhost:8080/"
        },
        "id": "1evWnLro6-pi",
        "outputId": "e27fc31d-8d63-4519-9d94-027dd14ec3e7"
      },
      "execution_count": null,
      "outputs": [
        {
          "output_type": "stream",
          "name": "stdout",
          "text": [
            "[0, 0, 0, 1, 0, 1, 0, 1, 1, 1, 0, 0, 0, 1, 1, 0, 0, 0, 0, 1, 1, 1, 0, 0, 0, 0, 0, 0, 0, 0, 0, 0, 0, 0, 0, 0, 1, 1, 1, 1, 1, 1, 0, 0, 1, 0, 1, 1, 1, 1, 1, 1, 1, 0, 0, 1, 0, 0, 1, 1, 1, 1, 0, 1, 0, 0, 1, 1, 1, 1, 0, 1, 0, 1, 1, 0, 1, 0, 0, 1, 1, 1, 0, 0, 1, 0, 1, 0, 1, 1, 1, 1, 1, 1, 0, 0, 1, 1, 1, 1, 1, 1, 1, 1, 1, 1, 1, 1, 0, 1, 1, 1, 1, 1, 1, 1, 1, 0, 0, 0, 1, 0, 0, 1, 1, 1, 1, 0, 1, 0, 1, 0, 0, 0, 0, 1, 1, 1, 0, 1, 1, 0, 1, 1, 1, 1, 1, 1, 1, 1, 1, 1, 0, 1, 1, 1, 0, 0, 1, 1, 1, 0, 0, 1, 0, 1, 1, 0, 0, 1, 1, 0, 0, 1, 1, 1, 1, 0, 1, 1, 0, 0, 0, 1, 0, 1, 0, 1, 1, 1, 1, 1, 1, 1, 0, 1, 1, 0, 0, 0, 1, 0, 0, 0, 1, 0, 1, 0, 1, 1, 0, 1, 0, 0, 0, 1, 1, 1, 0, 0, 1, 1, 1, 0, 1, 1, 1, 1, 1, 1, 0, 1, 1, 0, 1, 1, 0, 0, 1, 0, 1, 1, 1, 1, 0, 1, 1, 1, 1, 1, 0, 1, 0, 0, 0, 1, 0, 0, 0, 0, 0, 0, 0, 0, 0, 0, 1, 1, 1, 1, 1, 1, 0, 1, 0, 1, 1, 0, 1, 1, 0, 1, 0, 0, 1, 1, 1, 1, 1, 1, 1, 1, 1, 1, 1, 1, 1, 1, 1, 1, 0, 1, 0, 1, 1, 1, 1, 1, 1, 1, 1, 1, 1, 1, 1, 1, 1, 0, 1, 1, 1, 0, 1, 0, 1, 1, 1, 1, 0, 0, 0, 1, 1, 1, 1, 0, 1, 0, 1, 0, 1, 1, 1, 0, 1, 1, 1, 1, 1, 1, 1, 0, 0, 0, 1, 1, 1, 1, 1, 1, 1, 1, 1, 0, 1, 0, 0, 1, 0, 0, 0, 1, 0, 0, 1, 1, 1, 1, 1, 1, 1, 1, 1, 1, 1, 1, 1, 1, 1, 0, 1, 1, 0, 0, 1, 1, 1, 1, 1, 1, 0, 1, 1, 1, 1, 1, 0, 1, 0, 1, 1, 1, 1, 1, 0, 1, 1, 0, 1, 1, 1, 0, 1, 1, 1, 1, 1, 1, 1, 1, 0, 1, 0, 0, 1, 0, 1, 1, 1, 1, 1, 0, 1, 1, 0, 1, 0, 1, 1, 0, 1, 0, 1, 1, 1, 1, 1, 1, 1, 1, 0, 0, 1, 1, 1, 1, 1, 1, 0, 1, 1, 1, 0, 1, 1, 1, 1, 1, 1, 0, 1, 1, 1, 1, 0, 1, 1, 0, 1, 0, 1, 0, 0, 1, 1, 1, 1, 1, 0, 0, 1, 0, 1, 0, 1, 1, 1, 1, 1, 0, 1, 1, 0, 1, 0, 1, 0, 0, 1, 1, 1, 0, 1, 1, 1, 1, 1, 1, 1, 1, 1, 1, 1, 0, 1, 0, 1, 1, 1, 1, 1, 1, 1, 1, 1, 1, 1, 1, 1, 1, 1, 1, 1, 1, 1, 1, 1, 1, 1, 1, 1, 1, 0, 0, 0, 0, 0, 0, 1]\n"
          ]
        }
      ]
    },
    {
      "cell_type": "code",
      "source": [
        "from sklearn.metrics import accuracy_score\n",
        "final_ensemble_acc= accuracy_score(y, g)\n",
        "print(final_ensemble_acc)"
      ],
      "metadata": {
        "colab": {
          "base_uri": "https://localhost:8080/"
        },
        "id": "yYyEtE9B7GgK",
        "outputId": "b28351b2-93bb-45ec-8746-986f2216ebbc"
      },
      "execution_count": null,
      "outputs": [
        {
          "output_type": "stream",
          "name": "stdout",
          "text": [
            "0.9261862917398945\n"
          ]
        }
      ]
    },
    {
      "cell_type": "code",
      "source": [
        "# example of accuracy_score\n",
        "\n",
        "from sklearn.metrics import accuracy_score\n",
        "y_pred = [0, 2, 1, 3, 7]\n",
        "y_true = [0, 1, 2, 3, 7]\n",
        "accuracy_score(y_true, y_pred)\n"
      ],
      "metadata": {
        "colab": {
          "base_uri": "https://localhost:8080/"
        },
        "id": "wVuij0TY7JQi",
        "outputId": "0e44ae1b-0cb9-49d6-f787-e8a7441cb16d"
      },
      "execution_count": null,
      "outputs": [
        {
          "output_type": "execute_result",
          "data": {
            "text/plain": [
              "0.6"
            ]
          },
          "metadata": {},
          "execution_count": 14
        }
      ]
    },
    {
      "cell_type": "code",
      "source": [
        "accuracy_score(y_true, y_pred, normalize=False)"
      ],
      "metadata": {
        "colab": {
          "base_uri": "https://localhost:8080/"
        },
        "id": "Pg6A9M0F7NIp",
        "outputId": "d665dfef-b637-4891-e05b-05e8aa520ae5"
      },
      "execution_count": null,
      "outputs": [
        {
          "output_type": "execute_result",
          "data": {
            "text/plain": [
              "3"
            ]
          },
          "metadata": {},
          "execution_count": 15
        }
      ]
    },
    {
      "cell_type": "code",
      "source": [
        ""
      ],
      "metadata": {
        "id": "u290mV867PV5"
      },
      "execution_count": null,
      "outputs": []
    }
  ]
}